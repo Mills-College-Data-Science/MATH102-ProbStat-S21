{
 "cells": [
  {
   "cell_type": "markdown",
   "metadata": {
    "id": "yDm9sTiDkXZ2"
   },
   "source": [
    "## Introduction to Jupyter, Python, and Discrete Probability models"
   ]
  },
  {
   "cell_type": "markdown",
   "metadata": {
    "id": "FOoNkgmzkXaG"
   },
   "source": [
    "# Importing Libraries"
   ]
  },
  {
   "cell_type": "code",
   "execution_count": 10,
   "metadata": {
    "executionInfo": {
     "elapsed": 344,
     "status": "ok",
     "timestamp": 1611092136837,
     "user": {
      "displayName": "YX Tao",
      "photoUrl": "https://lh3.googleusercontent.com/a-/AOh14GjI3hrrOdzq2w5KKd52exAQ_IE_4u7I7r9uTeuCDA=s64",
      "userId": "17530066312677513320"
     },
     "user_tz": 480
    },
    "id": "f2VOeAl8kXaH",
    "scrolled": true
   },
   "outputs": [],
   "source": [
    "# Import all necessary libraries. Run this cell: Ctrl+Enter \n",
    "# You don't need to know this\n",
    "import pandas as pd\n",
    "import numpy as np\n",
    "%matplotlib inline\n",
    "import matplotlib.pyplot as plt\n",
    "from ipywidgets import interact, interactive, fixed, interact_manual \n",
    "from IPython.display import Image, display\n",
    "from prob import *\n",
    "import collections"
   ]
  },
  {
   "cell_type": "markdown",
   "metadata": {
    "id": "5_BppSDTkXaJ"
   },
   "source": [
    "# Getting a feeling for probability"
   ]
  },
  {
   "cell_type": "markdown",
   "metadata": {
    "id": "2ijKJvZRkXaJ"
   },
   "source": [
    "TODO: add a little preamble about probability"
   ]
  },
  {
   "cell_type": "markdown",
   "metadata": {
    "id": "728GmL5NkXaK"
   },
   "source": [
    "<img src='DinoCoinFlipAnimation.gif' width='300' height='250'>"
   ]
  },
  {
   "cell_type": "markdown",
   "metadata": {
    "id": "0Gp0GjRPkXaK"
   },
   "source": [
    "TODO: give directions for using this widget"
   ]
  },
  {
   "cell_type": "code",
   "execution_count": 2,
   "metadata": {
    "colab": {
     "base_uri": "https://localhost:8080/",
     "height": 164
    },
    "executionInfo": {
     "elapsed": 2208,
     "status": "error",
     "timestamp": 1611092101566,
     "user": {
      "displayName": "YX Tao",
      "photoUrl": "https://lh3.googleusercontent.com/a-/AOh14GjI3hrrOdzq2w5KKd52exAQ_IE_4u7I7r9uTeuCDA=s64",
      "userId": "17530066312677513320"
     },
     "user_tz": 480
    },
    "id": "RI7p2ulAkXaK",
    "outputId": "abc1718c-647c-409e-ebf9-e1d7cfb6490c",
    "scrolled": true
   },
   "outputs": [
    {
     "data": {
      "application/vnd.jupyter.widget-view+json": {
       "model_id": "8d269ac78cec4a008a61d49f99d1f64e",
       "version_major": 2,
       "version_minor": 0
      },
      "text/plain": [
       "interactive(children=(IntSlider(value=50, description='trials', min=1), Button(description='Run Interact', sty…"
      ]
     },
     "metadata": {},
     "output_type": "display_data"
    }
   ],
   "source": [
    "interact_manual(flip_coins, trials=(1,100));"
   ]
  },
  {
   "cell_type": "markdown",
   "metadata": {
    "id": "vVFUZDewkXaM"
   },
   "source": [
    "TODO: give directions for using this widget"
   ]
  },
  {
   "cell_type": "code",
   "execution_count": 3,
   "metadata": {
    "executionInfo": {
     "elapsed": 2135,
     "status": "aborted",
     "timestamp": 1611092101516,
     "user": {
      "displayName": "YX Tao",
      "photoUrl": "https://lh3.googleusercontent.com/a-/AOh14GjI3hrrOdzq2w5KKd52exAQ_IE_4u7I7r9uTeuCDA=s64",
      "userId": "17530066312677513320"
     },
     "user_tz": 480
    },
    "id": "VhhZ6VE5kXaM",
    "scrolled": true
   },
   "outputs": [
    {
     "data": {
      "application/vnd.jupyter.widget-view+json": {
       "model_id": "93e77abfc27f4529a4453f845e99466b",
       "version_major": 2,
       "version_minor": 0
      },
      "text/plain": [
       "interactive(children=(IntSlider(value=50, description='trials', min=1), Button(description='Run Interact', sty…"
      ]
     },
     "metadata": {},
     "output_type": "display_data"
    }
   ],
   "source": [
    "interact_manual(flip_coins_pairs, trials=(1,100));"
   ]
  },
  {
   "cell_type": "markdown",
   "metadata": {
    "id": "LoEdIoz5kXaO"
   },
   "source": [
    "TODO: give directions for using this widget"
   ]
  },
  {
   "cell_type": "code",
   "execution_count": 4,
   "metadata": {
    "executionInfo": {
     "elapsed": 2084,
     "status": "aborted",
     "timestamp": 1611092101526,
     "user": {
      "displayName": "YX Tao",
      "photoUrl": "https://lh3.googleusercontent.com/a-/AOh14GjI3hrrOdzq2w5KKd52exAQ_IE_4u7I7r9uTeuCDA=s64",
      "userId": "17530066312677513320"
     },
     "user_tz": 480
    },
    "id": "ags3EdCykXaS",
    "scrolled": true
   },
   "outputs": [
    {
     "data": {
      "application/vnd.jupyter.widget-view+json": {
       "model_id": "7e92f32fba724103a6526e8c46c67430",
       "version_major": 2,
       "version_minor": 0
      },
      "text/plain": [
       "interactive(children=(IntSlider(value=50, description='trials', min=1), Button(description='Run Interact', sty…"
      ]
     },
     "metadata": {},
     "output_type": "display_data"
    }
   ],
   "source": [
    "interact_manual(flip_coins_triples, trials=(1, 100));"
   ]
  },
  {
   "cell_type": "markdown",
   "metadata": {
    "id": "pnYoRkzQkXat"
   },
   "source": [
    "TODO: introduce radar detector"
   ]
  },
  {
   "cell_type": "markdown",
   "metadata": {
    "id": "I12u5-83kXat"
   },
   "source": [
    "<!-- image source: https://ocw.mit.edu/resources/res-6-012-introduction-to-probability-spring-2018/part-i-the-fundamentals/MITRES_6_012S18_L02.pdf -->\n",
    "<img src='radar.png' width='500' height='500'>"
   ]
  },
  {
   "cell_type": "markdown",
   "metadata": {
    "id": "2PSI4jfjkXau"
   },
   "source": [
    "TODO: give directions for using this widget"
   ]
  },
  {
   "cell_type": "code",
   "execution_count": 5,
   "metadata": {
    "executionInfo": {
     "elapsed": 2050,
     "status": "aborted",
     "timestamp": 1611092101532,
     "user": {
      "displayName": "YX Tao",
      "photoUrl": "https://lh3.googleusercontent.com/a-/AOh14GjI3hrrOdzq2w5KKd52exAQ_IE_4u7I7r9uTeuCDA=s64",
      "userId": "17530066312677513320"
     },
     "user_tz": 480
    },
    "id": "fZ8iUR6KkXav"
   },
   "outputs": [
    {
     "data": {
      "application/vnd.jupyter.widget-view+json": {
       "model_id": "daf45fa8f2b6473590f48d8fdc1f926b",
       "version_major": 2,
       "version_minor": 0
      },
      "text/plain": [
       "interactive(children=(Dropdown(description='detections', options=(10, 100, 1000), value=10), Button(descriptio…"
      ]
     },
     "metadata": {},
     "output_type": "display_data"
    }
   ],
   "source": [
    "interact_manual(radar_dectector, detections=[10,100,1000]);"
   ]
  },
  {
   "cell_type": "markdown",
   "metadata": {
    "id": "3Uh2Fhz9kXav"
   },
   "source": [
    "<img src='montyhalldoors.png' width='400' height='300'>"
   ]
  },
  {
   "cell_type": "markdown",
   "metadata": {
    "id": "W6AvVVjWkXaw"
   },
   "source": [
    "TODO: give directions for using this widget"
   ]
  },
  {
   "cell_type": "code",
   "execution_count": 6,
   "metadata": {
    "executionInfo": {
     "elapsed": 2018,
     "status": "aborted",
     "timestamp": 1611092101533,
     "user": {
      "displayName": "YX Tao",
      "photoUrl": "https://lh3.googleusercontent.com/a-/AOh14GjI3hrrOdzq2w5KKd52exAQ_IE_4u7I7r9uTeuCDA=s64",
      "userId": "17530066312677513320"
     },
     "user_tz": 480
    },
    "id": "hlgoDxBykXaw",
    "scrolled": false
   },
   "outputs": [
    {
     "data": {
      "application/vnd.jupyter.widget-view+json": {
       "model_id": "69cf7db4c1784b21b74bf65d3fd4b64d",
       "version_major": 2,
       "version_minor": 0
      },
      "text/plain": [
       "interactive(children=(Dropdown(description='guess', options=(1, 2, 3), value=1), Dropdown(description='change'…"
      ]
     },
     "metadata": {},
     "output_type": "display_data"
    }
   ],
   "source": [
    "interact_manual(monty_hall_sim_interactive, guess=[1,2,3], change = [\"Yes\", \"No\"]);"
   ]
  },
  {
   "cell_type": "markdown",
   "metadata": {
    "id": "XXqdItnckXa0"
   },
   "source": [
    "TODO: give directions for using this widget"
   ]
  },
  {
   "cell_type": "code",
   "execution_count": 7,
   "metadata": {
    "executionInfo": {
     "elapsed": 2010,
     "status": "aborted",
     "timestamp": 1611092101544,
     "user": {
      "displayName": "YX Tao",
      "photoUrl": "https://lh3.googleusercontent.com/a-/AOh14GjI3hrrOdzq2w5KKd52exAQ_IE_4u7I7r9uTeuCDA=s64",
      "userId": "17530066312677513320"
     },
     "user_tz": 480
    },
    "id": "-V3DF_wWkXbP"
   },
   "outputs": [
    {
     "data": {
      "application/vnd.jupyter.widget-view+json": {
       "model_id": "2cd055229de14475a6075f1a282852dd",
       "version_major": 2,
       "version_minor": 0
      },
      "text/plain": [
       "interactive(children=(IntSlider(value=6, description='numdoors', max=10, min=3), IntSlider(value=55, descripti…"
      ]
     },
     "metadata": {},
     "output_type": "display_data"
    }
   ],
   "source": [
    "interact_manual(monty_hall_sim, numdoors=(3,10), numgames=(10,100));"
   ]
  },
  {
   "cell_type": "code",
   "execution_count": null,
   "metadata": {},
   "outputs": [],
   "source": []
  },
  {
   "cell_type": "markdown",
   "metadata": {
    "id": "BdF_hvHAkXbR"
   },
   "source": [
    "## Data Science with Fashion on Instagram ##"
   ]
  },
  {
   "cell_type": "code",
   "execution_count": 11,
   "metadata": {
    "executionInfo": {
     "elapsed": 1999,
     "status": "aborted",
     "timestamp": 1611092101546,
     "user": {
      "displayName": "YX Tao",
      "photoUrl": "https://lh3.googleusercontent.com/a-/AOh14GjI3hrrOdzq2w5KKd52exAQ_IE_4u7I7r9uTeuCDA=s64",
      "userId": "17530066312677513320"
     },
     "user_tz": 480
    },
    "id": "YqN6l5jlkXbR"
   },
   "outputs": [],
   "source": [
    "# data source from: https://dataverse.harvard.edu/dataset.xhtml?persistentId=doi:10.7910/DVN/K7AW6F\n",
    "fashion_data = pd.read_csv('fashiondataonInstagram.csv')"
   ]
  },
  {
   "cell_type": "code",
   "execution_count": 12,
   "metadata": {
    "executionInfo": {
     "elapsed": 1991,
     "status": "aborted",
     "timestamp": 1611092101547,
     "user": {
      "displayName": "YX Tao",
      "photoUrl": "https://lh3.googleusercontent.com/a-/AOh14GjI3hrrOdzq2w5KKd52exAQ_IE_4u7I7r9uTeuCDA=s64",
      "userId": "17530066312677513320"
     },
     "user_tz": 480
    },
    "id": "06Matb7EkXbV",
    "scrolled": false
   },
   "outputs": [
    {
     "ename": "SyntaxError",
     "evalue": "invalid syntax (<ipython-input-12-5b784776e09f>, line 1)",
     "output_type": "error",
     "traceback": [
      "\u001b[0;36m  File \u001b[0;32m\"<ipython-input-12-5b784776e09f>\"\u001b[0;36m, line \u001b[0;32m1\u001b[0m\n\u001b[0;31m    .01549111908393162fashion_data.describe()\u001b[0m\n\u001b[0m                      ^\u001b[0m\n\u001b[0;31mSyntaxError\u001b[0m\u001b[0;31m:\u001b[0m invalid syntax\n"
     ]
    }
   ],
   "source": [
    "fashion_data.describe()\n",
    "fashion_data.info()"
   ]
  },
  {
   "cell_type": "code",
   "execution_count": 13,
   "metadata": {
    "executionInfo": {
     "elapsed": 1965,
     "status": "aborted",
     "timestamp": 1611092101549,
     "user": {
      "displayName": "YX Tao",
      "photoUrl": "https://lh3.googleusercontent.com/a-/AOh14GjI3hrrOdzq2w5KKd52exAQ_IE_4u7I7r9uTeuCDA=s64",
      "userId": "17530066312677513320"
     },
     "user_tz": 480
    },
    "id": "6V1O5fQjkXbX"
   },
   "outputs": [
    {
     "data": {
      "image/png": "[encoded data removed]",
      "text/plain": [
       "<Figure size 1440x720 with 1 Axes>"
      ]
     },
     "metadata": {
      "needs_background": "light"
     },
     "output_type": "display_data"
    },
    {
     "name": "stdout",
     "output_type": "stream",
     "text": [
      "The correlation between likes and followers is 0.8453567368737609 which is almost 1, so they are related\n"
     ]
    }
   ],
   "source": [
    "followers = fashion_data['Followers']\n",
    "likes = fashion_data['Likes']\n",
    "followers_likes_corr = followers.corr(likes)\n",
    "\n",
    "fig = plt.figure(num=1, figsize=(20, 10))  \n",
    "axes = fig.add_subplot(1, 1, 1)\n",
    "axes.set_xlabel('Followers')\n",
    "axes.set_ylabel('Likes')\n",
    "axes.set_title('Do Fashion Instagrammer\\'s with more followers get more likes?')\n",
    "axes.plot(followers, likes, '*')\n",
    "# https://stackoverflow.com/questions/41635448/how-can-i-draw-scatter-trend-line-on-matplot-python-pandas/41635626\n",
    "plt.scatter(followers,likes)\n",
    "fit = np.polyfit(followers, likes, 1)\n",
    "fit = np.poly1d(fit)\n",
    "plt.plot(followers,fit(followers),\"r--\")\n",
    "plt.show()\n",
    "\n",
    "print(\"The correlation between likes and followers is \" + str(followers_likes_corr) + \" which is almost 1, so they are related\" )"
   ]
  },
  {
   "cell_type": "code",
   "execution_count": 13,
   "metadata": {
    "executionInfo": {
     "elapsed": 1954,
     "status": "aborted",
     "timestamp": 1611092101550,
     "user": {
      "displayName": "YX Tao",
      "photoUrl": "https://lh3.googleusercontent.com/a-/AOh14GjI3hrrOdzq2w5KKd52exAQ_IE_4u7I7r9uTeuCDA=s64",
      "userId": "17530066312677513320"
     },
     "user_tz": 480
    },
    "id": "dKv0g1C7kXbX"
   },
   "outputs": [
    {
     "name": "stdout",
     "output_type": "stream",
     "text": [
      "The mean 'like' value is: 101.62213154492567\n",
      "The standard deviation is: 871.011060629272\n"
     ]
    }
   ],
   "source": [
    "print(\"The mean 'like' value is: \" + str(likes.mean()))\n",
    "print(\"The standard deviation is: \" + str(likes.std()))\n",
    "\n",
    "#TODO: make a histogram of likes"
   ]
  },
  {
   "cell_type": "markdown",
   "metadata": {
    "id": "u4d2MW7SkXbY"
   },
   "source": []
  },
  {
   "cell_type": "code",
   "execution_count": 14,
   "metadata": {
    "executionInfo": {
     "elapsed": 1934,
     "status": "aborted",
     "timestamp": 1611092101551,
     "user": {
      "displayName": "YX Tao",
      "photoUrl": "https://lh3.googleusercontent.com/a-/AOh14GjI3hrrOdzq2w5KKd52exAQ_IE_4u7I7r9uTeuCDA=s64",
      "userId": "17530066312677513320"
     },
     "user_tz": 480
    },
    "id": "VpX2lYYvkXbZ"
   },
   "outputs": [
    {
     "data": {
      "image/png": "[encoded data removed]",
      "text/plain": [
       "<Figure size 1440x720 with 1 Axes>"
      ]
     },
     "metadata": {
      "needs_background": "light"
     },
     "output_type": "display_data"
    },
    {
     "name": "stdout",
     "output_type": "stream",
     "text": [
      "The correlation between likes and happiness is 0.015491119083931625 which is almost 0, so they are most likely\n",
      "not related\n"
     ]
    }
   ],
   "source": [
    "happiness = fashion_data['Happiness']\n",
    "\n",
    "fig = plt.figure(num=1, figsize=(20, 10))  \n",
    "axes = fig.add_subplot(1, 1, 1)  # one by one \n",
    "axes.set_xlabel('Observed Happiness')\n",
    "axes.set_ylabel('Likes')\n",
    "axes.set_title('Do Fashion Instagrammer\\'s with a higher observed happiness get more likes?')\n",
    "axes.plot(happiness,  likes, '*')\n",
    "plt.show()\n",
    "\n",
    "happiness_likes_corr = happiness.corr(likes)\n",
    "print(\"The correlation between likes and happiness is \" + str(happiness_likes_corr) + \" which is almost 0, so they are most likely\\nnot related\" )"
   ]
  },
  {
   "cell_type": "code",
   "execution_count": 15,
   "metadata": {
    "executionInfo": {
     "elapsed": 1932,
     "status": "aborted",
     "timestamp": 1611092101563,
     "user": {
      "displayName": "YX Tao",
      "photoUrl": "https://lh3.googleusercontent.com/a-/AOh14GjI3hrrOdzq2w5KKd52exAQ_IE_4u7I7r9uTeuCDA=s64",
      "userId": "17530066312677513320"
     },
     "user_tz": 480
    },
    "id": "8_8YBuGekXbZ"
   },
   "outputs": [
    {
     "data": {
      "image/png": "[encoded data removed]",
      "text/plain": [
       "<Figure size 1440x720 with 1 Axes>"
      ]
     },
     "metadata": {
      "needs_background": "light"
     },
     "output_type": "display_data"
    }
   ],
   "source": [
    "# what are the most common hash tags?\n",
    "hash_tags = fashion_data['Hashtags'].astype(str)\n",
    "counter = collections.Counter()\n",
    "\n",
    "for tag_set in hash_tags:\n",
    "    tags = tag_set.split(', ')\n",
    "    for tag in tags:\n",
    "        if '\\\\' not in tag:\n",
    "            counter[tag] += 1\n",
    "most_common_hash_tags = collections.OrderedDict(sorted(counter.items(), key=lambda t: t[1], reverse=True))\n",
    "sorted_common_hash_tags = pd.DataFrame.from_dict(most_common_hash_tags, orient='index').reset_index()\n",
    "sorted_common_hash_tags.describe()\n",
    "sorted_common_hash_tags = sorted_common_hash_tags.head(15)\n",
    "fig = plt.figure(num=1,figsize=(20, 10))  \n",
    "axes = fig.add_subplot(1, 1, 1)  # one by one \n",
    "axes.set_xlabel('Tags')\n",
    "axes.set_ylabel('Times used')\n",
    "axes.set_title('What are the top 15 most frequently used Hash Tags?')\n",
    "sorted_common_hash_tags = sorted_common_hash_tags.rename(columns= {'index' : 'tag', 0 : 'frequency'})\n",
    "axes.bar(sorted_common_hash_tags['tag'], sorted_common_hash_tags['frequency']);\n"
   ]
  }
 ],
 "metadata": {
  "colab": {
   "name": "ProbabilityModule.ipynb",
   "provenance": [],
   "toc_visible": true
  },
  "kernelspec": {
   "display_name": "Python 3",
   "language": "python",
   "name": "python3"
  },
  "language_info": {
   "codemirror_mode": {
    "name": "ipython",
    "version": 3
   },
   "file_extension": ".py",
   "mimetype": "text/x-python",
   "name": "python",
   "nbconvert_exporter": "python",
   "pygments_lexer": "ipython3",
   "version": "3.8.5"
  }
 },
 "nbformat": 4,
 "nbformat_minor": 1
}
